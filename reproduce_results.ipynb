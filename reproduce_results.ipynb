{
 "cells": [
  {
   "cell_type": "code",
   "execution_count": 1,
   "id": "76c14e78",
   "metadata": {},
   "outputs": [],
   "source": [
    "from utils import sp_utils\n",
    "import pandas as pd\n",
    "import skseq\n",
    "from skseq.sequences.sequence import Sequence\n",
    "from skseq.sequences.sequence_list import SequenceList\n",
    "from skseq.sequences.structured_perceptron import StructuredPerceptron\n",
    "from skseq.sequences.id_feature import IDFeatures\n",
    "from seqeval.metrics import classification_report\n",
    "from collections import defaultdict\n",
    "import skseq.sequences.structured_perceptron as spc\n",
    "from skseq.sequences import extended_feature"
   ]
  },
  {
   "cell_type": "markdown",
   "id": "434f386d",
   "metadata": {},
   "source": [
    "# Perceptron"
   ]
  },
  {
   "cell_type": "code",
   "execution_count": 2,
   "id": "bd4b5cf5",
   "metadata": {},
   "outputs": [],
   "source": [
    "feature_type = [\"Initial features\", \"Transition features\", \"Final features\", \"Emission features\"]"
   ]
  },
  {
   "cell_type": "markdown",
   "id": "49e7d8c4",
   "metadata": {},
   "source": [
    "## Corpus"
   ]
  },
  {
   "cell_type": "code",
   "execution_count": 3,
   "id": "c14a1bc2",
   "metadata": {},
   "outputs": [],
   "source": [
    "from utils.NERcorpus import NERCorpus\n",
    "data_path = \"../nlp_d2_data/\"\n",
    "corpus = NERCorpus()\n",
    "train_seq = corpus.read_sequence_list_csv(f\"{data_path}train_data_ner.csv\")\n",
    "test_seq = corpus.read_sequence_list_csv(f\"{data_path}test_data_ner.csv\")"
   ]
  },
  {
   "cell_type": "code",
   "execution_count": 4,
   "id": "795b7036",
   "metadata": {},
   "outputs": [
    {
     "data": {
      "text/plain": [
       "{'O': 0,\n",
       " 'B-geo': 1,\n",
       " 'B-gpe': 2,\n",
       " 'B-tim': 3,\n",
       " 'B-org': 4,\n",
       " 'I-geo': 5,\n",
       " 'B-per': 6,\n",
       " 'I-per': 7,\n",
       " 'I-org': 8,\n",
       " 'B-art': 9,\n",
       " 'I-art': 10,\n",
       " 'I-tim': 11,\n",
       " 'I-gpe': 12,\n",
       " 'B-nat': 13,\n",
       " 'I-nat': 14,\n",
       " 'B-eve': 15,\n",
       " 'I-eve': 16}"
      ]
     },
     "execution_count": 4,
     "metadata": {},
     "output_type": "execute_result"
    }
   ],
   "source": [
    "corpus.tag_dict"
   ]
  },
  {
   "cell_type": "markdown",
   "id": "722ff3d8",
   "metadata": {},
   "source": [
    "## Simple Features"
   ]
  },
  {
   "cell_type": "code",
   "execution_count": 5,
   "id": "33934171",
   "metadata": {},
   "outputs": [],
   "source": [
    "feature_mapper = skseq.sequences.id_feature.IDFeatures(train_seq)\n",
    "feature_mapper.build_features()"
   ]
  },
  {
   "cell_type": "code",
   "execution_count": 6,
   "id": "36cf1e9a",
   "metadata": {},
   "outputs": [
    {
     "data": {
      "text/plain": [
       "(17, 55145)"
      ]
     },
     "execution_count": 6,
     "metadata": {},
     "output_type": "execute_result"
    }
   ],
   "source": [
    "sp = spc.StructuredPerceptron(corpus.word_dict, corpus.tag_dict, feature_mapper)\n",
    "sp.num_epochs = 5\n",
    "sp.get_num_states(), sp.get_num_observations()"
   ]
  },
  {
   "cell_type": "code",
   "execution_count": null,
   "id": "019869c2",
   "metadata": {},
   "outputs": [
    {
     "name": "stdout",
     "output_type": "stream",
     "text": [
      "[ 6.2  7.8 10.4 ... -3.2  1.2  0. ]\n",
      "Number of features learned: 39802\n",
      "Number of sequences: 38366\n"
     ]
    }
   ],
   "source": [
    "sp.load_model(dir=\"saved_models/sp_simple\")"
   ]
  },
  {
   "cell_type": "code",
   "execution_count": null,
   "id": "939b0603",
   "metadata": {},
   "outputs": [
    {
     "name": "stdout",
     "output_type": "stream",
     "text": [
      "SP -  Accuracy Train: 0.812 Test: 0.284\n"
     ]
    }
   ],
   "source": [
    "sp_utils.evaluate_model(sp, train_seq, test_seq)"
   ]
  },
  {
   "cell_type": "code",
   "execution_count": 7,
   "id": "f01cb919",
   "metadata": {},
   "outputs": [],
   "source": [
    "inv_feature_dict = {word: pos for pos, word in feature_mapper.feature_dict.items()}"
   ]
  },
  {
   "cell_type": "code",
   "execution_count": 9,
   "id": "2ccfae94",
   "metadata": {},
   "outputs": [
    {
     "name": "stdout",
     "output_type": "stream",
     "text": [
      "David/O had/O been/O asked/O to/O write/O a/O challenging/O program/O for/O Maria/O ./O \n",
      "([[0]], [[3], [3], [3], [3], [3], [3], [3], [3], [3], [3], [3]], [[28]], [[], [532], [455], [659], [10], [7318], [63], [6045], [594], [251], [], [27]])\n",
      "Initial features\n",
      "\t [0]\n",
      "\t\t init_tag:O\n",
      "\n",
      "\n",
      "Transition features\n",
      "\t [3]\n",
      "\t\t prev_tag:O::O\n",
      "\t [3]\n",
      "\t\t prev_tag:O::O\n",
      "\t [3]\n",
      "\t\t prev_tag:O::O\n",
      "\t [3]\n",
      "\t\t prev_tag:O::O\n",
      "\t [3]\n",
      "\t\t prev_tag:O::O\n",
      "\t [3]\n",
      "\t\t prev_tag:O::O\n",
      "\t [3]\n",
      "\t\t prev_tag:O::O\n",
      "\t [3]\n",
      "\t\t prev_tag:O::O\n",
      "\t [3]\n",
      "\t\t prev_tag:O::O\n",
      "\t [3]\n",
      "\t\t prev_tag:O::O\n",
      "\t [3]\n",
      "\t\t prev_tag:O::O\n",
      "\n",
      "\n",
      "Final features\n",
      "\t [28]\n",
      "\t\t final_prev_tag:O\n",
      "\n",
      "\n",
      "Emission features\n",
      "\t []\n",
      "\t [532]\n",
      "\t\t id:had::O\n",
      "\t [455]\n",
      "\t\t id:been::O\n",
      "\t [659]\n",
      "\t\t id:asked::O\n",
      "\t [10]\n",
      "\t\t id:to::O\n",
      "\t [7318]\n",
      "\t\t id:write::O\n",
      "\t [63]\n",
      "\t\t id:a::O\n",
      "\t [6045]\n",
      "\t\t id:challenging::O\n",
      "\t [594]\n",
      "\t\t id:program::O\n",
      "\t [251]\n",
      "\t\t id:for::O\n",
      "\t []\n",
      "\t [27]\n",
      "\t\t id:.::O\n",
      "\n",
      "\n",
      "None\n"
     ]
    }
   ],
   "source": [
    "p = \"David had been asked to write a challenging program for Maria .\"\n",
    "sp_utils.predict_new_sentance(sp, feature_mapper, p, train_seq, feature_type, inv_feature_dict)"
   ]
  },
  {
   "cell_type": "markdown",
   "id": "78d7dbd9",
   "metadata": {},
   "source": [
    "## Extended Features"
   ]
  },
  {
   "cell_type": "code",
   "execution_count": null,
   "id": "4c806172",
   "metadata": {},
   "outputs": [],
   "source": [
    "feature_ext_mapper = skseq.sequences.extended_feature.ExtendedFeatures(train_seq)\n",
    "feature_ext_mapper.build_features()"
   ]
  },
  {
   "cell_type": "code",
   "execution_count": 6,
   "id": "f10366d5",
   "metadata": {},
   "outputs": [
    {
     "data": {
      "text/plain": [
       "(17, 55145)"
      ]
     },
     "execution_count": 6,
     "metadata": {},
     "output_type": "execute_result"
    }
   ],
   "source": [
    "sp_ext = spc.StructuredPerceptron(corpus.word_dict, corpus.tag_dict, feature_ext_mapper)\n",
    "sp_ext.num_epochs = 5\n",
    "sp_ext.get_num_states(), sp_ext.get_num_observations()"
   ]
  },
  {
   "cell_type": "code",
   "execution_count": null,
   "id": "8d981fb8",
   "metadata": {},
   "outputs": [
    {
     "name": "stdout",
     "output_type": "stream",
     "text": [
      "[21.8  4.4  5.4 ...  1.6  0.   0. ]\n",
      "Number of features learned: 99696\n",
      "Number of sequences: 38366\n"
     ]
    }
   ],
   "source": [
    "sp_ext.load_model(dir = \"saved_models/sp_extended\")"
   ]
  },
  {
   "cell_type": "code",
   "execution_count": null,
   "id": "789718bd",
   "metadata": {},
   "outputs": [
    {
     "name": "stdout",
     "output_type": "stream",
     "text": [
      "SP EXT -  Accuracy Train: 0.809 Test: 0.557\n"
     ]
    }
   ],
   "source": [
    "sp_utils.evaluate_model(sp_ext, train_seq, test_seq)"
   ]
  },
  {
   "cell_type": "code",
   "execution_count": 14,
   "id": "e471d0ac",
   "metadata": {},
   "outputs": [],
   "source": [
    "inv_feature_dict = {word: pos for pos, word in feature_ext_mapper.feature_dict.items()}"
   ]
  },
  {
   "cell_type": "code",
   "execution_count": null,
   "id": "9ba83b3d",
   "metadata": {},
   "outputs": [
    {
     "name": "stdout",
     "output_type": "stream",
     "text": [
      "David/B-per had/O been/O asked/O to/O write/O a/O challenging/O program/O for/O Maria/B-per ./O \n",
      "([[343]], [[582], [10], [10], [10], [10], [10], [10], [10], [10], [258], [582]], [[94]], [[19626, 19627, 254, 11487, 19628, 348], [1725, 1726, 1727, 1728, 9], [1498, 1499, 1500, 890, 9], [2102, 2103, 1858, 2104, 19], [35, 36, 19], [19759, 19760, 12551, 3469, 19], [212, 213, 19], [16477, 16478, 897, 292, 19], [1919, 1920, 40, 1921, 19], [857, 858, 521, 859, 86], [24139, 24140, 254, 7710, 17097, 2930], [91, 92, 93]])\n",
      "Initial features\n",
      "\t [343]\n",
      "\t\t init_tag:B-per\n",
      "\n",
      "\n",
      "Transition features\n",
      "\t [582]\n",
      "\t\t prev_tag:B-per::O\n",
      "\t [10]\n",
      "\t\t prev_tag:O::O\n",
      "\t [10]\n",
      "\t\t prev_tag:O::O\n",
      "\t [10]\n",
      "\t\t prev_tag:O::O\n",
      "\t [10]\n",
      "\t\t prev_tag:O::O\n",
      "\t [10]\n",
      "\t\t prev_tag:O::O\n",
      "\t [10]\n",
      "\t\t prev_tag:O::O\n",
      "\t [10]\n",
      "\t\t prev_tag:O::O\n",
      "\t [10]\n",
      "\t\t prev_tag:O::O\n",
      "\t [258]\n",
      "\t\t prev_tag:O::B-per\n",
      "\t [582]\n",
      "\t\t prev_tag:B-per::O\n",
      "\n",
      "\n",
      "Final features\n",
      "\t [94]\n",
      "\t\t final_prev_tag:O\n",
      "\n",
      "\n",
      "Emission features\n",
      "\t [19626, 19627, 254, 11487, 19628, 348]\n",
      "\t\t id:David::B-per\n",
      "\t\t lower:david::B-per\n",
      "\t\t capitalized::B-per\n",
      "\t\t prefix:dav::B-per\n",
      "\t\t suffix:vid::B-per\n",
      "\t\t pos_bucket:start::B-per\n",
      "\t [1725, 1726, 1727, 1728, 9]\n",
      "\t\t id:had::O\n",
      "\t\t lower:had::O\n",
      "\t\t prefix:had::O\n",
      "\t\t suffix:had::O\n",
      "\t\t pos_bucket:early::O\n",
      "\t [1498, 1499, 1500, 890, 9]\n",
      "\t\t id:been::O\n",
      "\t\t lower:been::O\n",
      "\t\t prefix:bee::O\n",
      "\t\t suffix:een::O\n",
      "\t\t pos_bucket:early::O\n",
      "\t [2102, 2103, 1858, 2104, 19]\n",
      "\t\t id:asked::O\n",
      "\t\t lower:asked::O\n",
      "\t\t prefix:ask::O\n",
      "\t\t suffix:ked::O\n",
      "\t\t pos_bucket:middle::O\n",
      "\t [35, 36, 19]\n",
      "\t\t id:to::O\n",
      "\t\t lower:to::O\n",
      "\t\t pos_bucket:middle::O\n",
      "\t [19759, 19760, 12551, 3469, 19]\n",
      "\t\t id:write::O\n",
      "\t\t lower:write::O\n",
      "\t\t prefix:wri::O\n",
      "\t\t suffix:ite::O\n",
      "\t\t pos_bucket:middle::O\n",
      "\t [212, 213, 19]\n",
      "\t\t id:a::O\n",
      "\t\t lower:a::O\n",
      "\t\t pos_bucket:middle::O\n",
      "\t [16477, 16478, 897, 292, 19]\n",
      "\t\t id:challenging::O\n",
      "\t\t lower:challenging::O\n",
      "\t\t prefix:cha::O\n",
      "\t\t suffix:ing::O\n",
      "\t\t pos_bucket:middle::O\n",
      "\t [1919, 1920, 40, 1921, 19]\n",
      "\t\t id:program::O\n",
      "\t\t lower:program::O\n",
      "\t\t prefix:pro::O\n",
      "\t\t suffix:ram::O\n",
      "\t\t pos_bucket:middle::O\n",
      "\t [857, 858, 521, 859, 86]\n",
      "\t\t id:for::O\n",
      "\t\t lower:for::O\n",
      "\t\t prefix:for::O\n",
      "\t\t suffix:for::O\n",
      "\t\t pos_bucket:late::O\n",
      "\t [24139, 24140, 254, 7710, 17097, 2930]\n",
      "\t\t id:Maria::B-per\n",
      "\t\t lower:maria::B-per\n",
      "\t\t capitalized::B-per\n",
      "\t\t prefix:mar::B-per\n",
      "\t\t suffix:ria::B-per\n",
      "\t\t pos_bucket:late::B-per\n",
      "\t [91, 92, 93]\n",
      "\t\t id:.::O\n",
      "\t\t lower:.::O\n",
      "\t\t pos_bucket:end::O\n",
      "\n",
      "\n",
      "None\n"
     ]
    }
   ],
   "source": [
    "p = \"David had been asked to write a challenging program for Maria .\"\n",
    "sp_utils.predict_new_sentance(sp_ext, feature_mapper, p, train_seq, feature_type, inv_feature_dict)"
   ]
  },
  {
   "cell_type": "markdown",
   "id": "390ad2a1",
   "metadata": {},
   "source": [
    "## Cython Optimization"
   ]
  },
  {
   "cell_type": "code",
   "execution_count": 5,
   "id": "00f2618b",
   "metadata": {},
   "outputs": [],
   "source": [
    "from skseq.sequences.structured_perceptron_optimized import StructuredPerceptronOptimized"
   ]
  },
  {
   "cell_type": "code",
   "execution_count": 6,
   "id": "01bcee07",
   "metadata": {},
   "outputs": [],
   "source": [
    "feature_ext_mapper = skseq.sequences.extended_feature.ExtendedFeatures(train_seq)\n",
    "feature_ext_mapper.build_features()"
   ]
  },
  {
   "cell_type": "code",
   "execution_count": 7,
   "id": "066d3df6",
   "metadata": {},
   "outputs": [],
   "source": [
    "sp_opt = StructuredPerceptronOptimized(corpus.word_dict, corpus.tag_dict, feature_ext_mapper)"
   ]
  },
  {
   "cell_type": "code",
   "execution_count": null,
   "id": "2c9e5cc0",
   "metadata": {},
   "outputs": [
    {
     "name": "stdout",
     "output_type": "stream",
     "text": [
      "[1.61916e+04 1.57200e+02 1.66200e+02 ... 6.00000e+00 0.00000e+00\n",
      " 0.00000e+00]\n",
      "Number of features learned: 99696\n",
      "Number of sequences: 38366\n"
     ]
    }
   ],
   "source": [
    "sp_opt.load_model(dir = \"saved_models/sp_optimized\")"
   ]
  },
  {
   "cell_type": "code",
   "execution_count": null,
   "id": "f70af013",
   "metadata": {},
   "outputs": [
    {
     "name": "stdout",
     "output_type": "stream",
     "text": [
      "SP EXT -  Accuracy Train: 0.290 Test: 0.230\n"
     ]
    }
   ],
   "source": [
    "sp_utils.evaluate_model(sp_opt, train_seq, test_seq)"
   ]
  },
  {
   "cell_type": "code",
   "execution_count": 12,
   "id": "ad7f0194",
   "metadata": {},
   "outputs": [],
   "source": [
    "inv_feature_dict = {word: pos for pos, word in feature_ext_mapper.feature_dict.items()}"
   ]
  },
  {
   "cell_type": "code",
   "execution_count": null,
   "id": "7d2636e7",
   "metadata": {},
   "outputs": [
    {
     "name": "stdout",
     "output_type": "stream",
     "text": [
      "David/B-geo had/O been/O asked/O to/O write/O a/O challenging/O program/O for/B-tim Maria/B-geo ./O \n",
      "([[237]], [[37], [10], [10], [10], [10], [10], [10], [10], [109], [10606], [37]], [[94]], [[30, 23692, 243], [1725, 1726, 1727, 1728, 9], [1498, 1499, 1500, 890, 9], [2102, 2103, 1858, 2104, 19], [35, 36, 19], [19759, 19760, 12551, 3469, 19], [212, 213, 19], [16477, 16478, 897, 292, 19], [1919, 1920, 40, 1921, 19], [41624, 1744], [30, 16466, 705, 193], [91, 92, 93]])\n",
      "Initial features\n",
      "\t [237]\n",
      "\t\t init_tag:B-geo\n",
      "\n",
      "\n",
      "Transition features\n",
      "\t [37]\n",
      "\t\t prev_tag:B-geo::O\n",
      "\t [10]\n",
      "\t\t prev_tag:O::O\n",
      "\t [10]\n",
      "\t\t prev_tag:O::O\n",
      "\t [10]\n",
      "\t\t prev_tag:O::O\n",
      "\t [10]\n",
      "\t\t prev_tag:O::O\n",
      "\t [10]\n",
      "\t\t prev_tag:O::O\n",
      "\t [10]\n",
      "\t\t prev_tag:O::O\n",
      "\t [10]\n",
      "\t\t prev_tag:O::O\n",
      "\t [109]\n",
      "\t\t prev_tag:O::B-tim\n",
      "\t [10606]\n",
      "\t\t prev_tag:B-tim::B-geo\n",
      "\t [37]\n",
      "\t\t prev_tag:B-geo::O\n",
      "\n",
      "\n",
      "Final features\n",
      "\t [94]\n",
      "\t\t final_prev_tag:O\n",
      "\n",
      "\n",
      "Emission features\n",
      "\t [30, 23692, 243]\n",
      "\t\t capitalized::B-geo\n",
      "\t\t prefix:dav::B-geo\n",
      "\t\t pos_bucket:start::B-geo\n",
      "\t [1725, 1726, 1727, 1728, 9]\n",
      "\t\t id:had::O\n",
      "\t\t lower:had::O\n",
      "\t\t prefix:had::O\n",
      "\t\t suffix:had::O\n",
      "\t\t pos_bucket:early::O\n",
      "\t [1498, 1499, 1500, 890, 9]\n",
      "\t\t id:been::O\n",
      "\t\t lower:been::O\n",
      "\t\t prefix:bee::O\n",
      "\t\t suffix:een::O\n",
      "\t\t pos_bucket:early::O\n",
      "\t [2102, 2103, 1858, 2104, 19]\n",
      "\t\t id:asked::O\n",
      "\t\t lower:asked::O\n",
      "\t\t prefix:ask::O\n",
      "\t\t suffix:ked::O\n",
      "\t\t pos_bucket:middle::O\n",
      "\t [35, 36, 19]\n",
      "\t\t id:to::O\n",
      "\t\t lower:to::O\n",
      "\t\t pos_bucket:middle::O\n",
      "\t [19759, 19760, 12551, 3469, 19]\n",
      "\t\t id:write::O\n",
      "\t\t lower:write::O\n",
      "\t\t prefix:wri::O\n",
      "\t\t suffix:ite::O\n",
      "\t\t pos_bucket:middle::O\n",
      "\t [212, 213, 19]\n",
      "\t\t id:a::O\n",
      "\t\t lower:a::O\n",
      "\t\t pos_bucket:middle::O\n",
      "\t [16477, 16478, 897, 292, 19]\n",
      "\t\t id:challenging::O\n",
      "\t\t lower:challenging::O\n",
      "\t\t prefix:cha::O\n",
      "\t\t suffix:ing::O\n",
      "\t\t pos_bucket:middle::O\n",
      "\t [1919, 1920, 40, 1921, 19]\n",
      "\t\t id:program::O\n",
      "\t\t lower:program::O\n",
      "\t\t prefix:pro::O\n",
      "\t\t suffix:ram::O\n",
      "\t\t pos_bucket:middle::O\n",
      "\t [41624, 1744]\n",
      "\t\t prefix:for::B-tim\n",
      "\t\t pos_bucket:late::B-tim\n",
      "\t [30, 16466, 705, 193]\n",
      "\t\t capitalized::B-geo\n",
      "\t\t prefix:mar::B-geo\n",
      "\t\t suffix:ria::B-geo\n",
      "\t\t pos_bucket:late::B-geo\n",
      "\t [91, 92, 93]\n",
      "\t\t id:.::O\n",
      "\t\t lower:.::O\n",
      "\t\t pos_bucket:end::O\n",
      "\n",
      "\n",
      "None\n"
     ]
    }
   ],
   "source": [
    "p = \"David had been asked to write a challenging program for Maria .\"\n",
    "sp_utils.predict_new_sentance(sp_opt, feature_mapper, p, train_seq, feature_type, inv_feature_dict)"
   ]
  },
  {
   "cell_type": "code",
   "execution_count": null,
   "id": "c6b3eefe",
   "metadata": {},
   "outputs": [],
   "source": []
  }
 ],
 "metadata": {
  "kernelspec": {
   "display_name": "ethics",
   "language": "python",
   "name": "python3"
  },
  "language_info": {
   "codemirror_mode": {
    "name": "ipython",
    "version": 3
   },
   "file_extension": ".py",
   "mimetype": "text/x-python",
   "name": "python",
   "nbconvert_exporter": "python",
   "pygments_lexer": "ipython3",
   "version": "3.10.16"
  }
 },
 "nbformat": 4,
 "nbformat_minor": 5
}
